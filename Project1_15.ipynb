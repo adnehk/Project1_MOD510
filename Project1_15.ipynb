{
 "cells": [
  {
   "cell_type": "markdown",
   "metadata": {},
   "source": [
    "# Project 1 group 15 #"
   ]
  },
  {
   "cell_type": "markdown",
   "metadata": {},
   "source": [
    "### Exercise 1: Finite-precision arithmetic ###"
   ]
  },
  {
   "cell_type": "markdown",
   "metadata": {},
   "source": [
    "#### part 1 ####"
   ]
  },
  {
   "cell_type": "code",
   "execution_count": 2,
   "metadata": {},
   "outputs": [
    {
     "data": {
      "text/plain": [
       "sys.float_info(max=1.7976931348623157e+308, max_exp=1024, max_10_exp=308, min=2.2250738585072014e-308, min_exp=-1021, min_10_exp=-307, dig=15, mant_dig=53, epsilon=2.220446049250313e-16, radix=2, rounds=1)"
      ]
     },
     "execution_count": 2,
     "metadata": {},
     "output_type": "execute_result"
    }
   ],
   "source": [
    "import sys\n",
    "sys.float_info"
   ]
  },
  {
   "cell_type": "markdown",
   "metadata": {},
   "source": [
    "\n",
    "max: the largest number possible\n",
    "\n",
    "min: the smalles number possible \n",
    "\n",
    "max_exp: the largest bit size. Referse to the lagest exponential possible for => $2^{max exp}$\n",
    "\n",
    "min_exp: the smallest bit size. Referse to the smallest exponential possible for => $2^{min exp}$"
   ]
  },
  {
   "cell_type": "markdown",
   "metadata": {},
   "source": [
    "#### part 2 ####"
   ]
  },
  {
   "cell_type": "code",
   "execution_count": 29,
   "metadata": {},
   "outputs": [
    {
     "name": "stdout",
     "output_type": "stream",
     "text": [
      "max:  1.7976931348623157e+308\n",
      "min:  2.2250738585072014e-308\n",
      "epsilon:  2.220446049250313e-16\n"
     ]
    }
   ],
   "source": [
    "max = (2-2**-52)*(2**1023)\n",
    "min = 2**(-1022)\n",
    "epsilon = 2**-52\n",
    "print(\"max: \", max)\n",
    "print(\"min: \", min)\n",
    "print(\"epsilon: \", epsilon)\n",
    "\n"
   ]
  },
  {
   "cell_type": "markdown",
   "metadata": {},
   "source": [
    "#### part 3 ####"
   ]
  },
  {
   "cell_type": "code",
   "execution_count": 30,
   "metadata": {},
   "outputs": [
    {
     "data": {
      "text/plain": [
       "0.30000000000000004"
      ]
     },
     "execution_count": 30,
     "metadata": {},
     "output_type": "execute_result"
    }
   ],
   "source": [
    "0.1+0.2"
   ]
  },
  {
   "cell_type": "markdown",
   "metadata": {},
   "source": [
    "As shown above the $0.1 + 0.2 \\neq 0.3 $.\n",
    "This is because numbers are represented as a finit number of bits. (typacly 64-bit). Where the first bit position is the sign, the next 11 bits is the exponent and the last 52 bits is the fraction. This causes some rounding error for floating points as representing some decimals requires an infinite number of digits."
   ]
  },
  {
   "cell_type": "markdown",
   "metadata": {},
   "source": [
    "#### part 4 ####"
   ]
  },
  {
   "cell_type": "code",
   "execution_count": 32,
   "metadata": {},
   "outputs": [
    {
     "name": "stdout",
     "output_type": "stream",
     "text": [
      "==, opperator does not work and gives false\n",
      "<, opperato works and gives true\n"
     ]
    }
   ],
   "source": [
    "a = 0.1\n",
    "b = 0.2\n",
    "c = 0.1 + 0.2\n",
    "if c == 0.3:\n",
    "    print(\"==, opperator workes and gives true\")\n",
    "else:\n",
    "    print(\"==, opperator does not work and gives false\")\n",
    "\n",
    "if (c - 0.3) < 0.000001:\n",
    "    print(\"<, opperato works and gives true\")\n",
    "else:\n",
    "\n",
    "    print(\"<, does not work and gives false\")\n"
   ]
  },
  {
   "cell_type": "markdown",
   "metadata": {},
   "source": [
    "For the example above where $0.1 + 0.2 \\neq 0.3$ it is clare that for some cases using the $==$ opperator will give some errors. this is why you should not use this opperator when dealing with floating points. as shown in the code above we can see that == opperator does not work. an alternative method would be the close enoght method, where we define a tolerance. in this case 0.000001 witch is vary small. "
   ]
  },
  {
   "cell_type": "markdown",
   "metadata": {},
   "source": [
    "### Exercise 2: Get up to speed with NumPy ###"
   ]
  },
  {
   "cell_type": "markdown",
   "metadata": {},
   "source": [
    "#### part 1 ####\n",
    "import numpy as np\n",
    "my_list = []*10\n",
    "my_list = [0., 0.11111111, 0.22222222, 0.33333333, 0.44444444, 0.55555556,0.66666667, 0.77777778, 0.88888889, 1. ]\n",
    "output_list1 = [np.exp (i) for i in my_list]\n",
    "output_list2 = [np.exp (-i) for i in my_list]\n",
    "print(\"list np.exp(i)\", output_list1)\n",
    "print(\"list np.exp(-i)\", output_list2)"
   ]
  },
  {
   "cell_type": "markdown",
   "metadata": {},
   "source": [
    "#### part 2 ####\n",
    "import numpy as np\n",
    "np.zeros(20) # array with 20 elements equal to zero\n",
    "np.ones(20) # array with 20 elements equal to one\n",
    "np.linspace(0, 10, 11) # Return evenly spaced numbers over a specified interval.[start,stop, num= number of evenlly spaced samples]\n",
    "np.linspace(0, 10, 11, endpoint=False) # Same as above but the stop will not be on the last element. In this case, not on 10\n",
    "vector1 = np.arange(5) + 1\n",
    "print(vector1)\n",
    "2*vector1"
   ]
  },
  {
   "cell_type": "markdown",
   "metadata": {},
   "source": [
    "Produce same using Python lists"
   ]
  },
  {
   "cell_type": "code",
   "execution_count": null,
   "metadata": {},
   "outputs": [],
   "source": [
    "list_of_zeroes = [0]*20\n",
    "print(list_of_zeroes)\n",
    "\n",
    "list_of_ones = [1]*20\n",
    "print(list_of_ones)"
   ]
  },
  {
   "cell_type": "markdown",
   "metadata": {},
   "source": [
    "#### part 3 ####"
   ]
  },
  {
   "cell_type": "markdown",
   "metadata": {},
   "source": [
    "#### part 4 ####"
   ]
  },
  {
   "cell_type": "markdown",
   "metadata": {},
   "source": [
    "### Exercise 3, Part I: Finite Differences (FD) with Functions ###"
   ]
  },
  {
   "cell_type": "markdown",
   "metadata": {},
   "source": [
    "#### part 1 ####"
   ]
  },
  {
   "cell_type": "markdown",
   "metadata": {},
   "source": [
    "#### part 2 ####"
   ]
  },
  {
   "cell_type": "markdown",
   "metadata": {},
   "source": [
    "#### part 3 ####"
   ]
  },
  {
   "cell_type": "markdown",
   "metadata": {},
   "source": [
    "#### part 4 ####"
   ]
  },
  {
   "cell_type": "markdown",
   "metadata": {},
   "source": [
    "#### part 5 ####"
   ]
  },
  {
   "cell_type": "markdown",
   "metadata": {},
   "source": [
    "###  Exercise 3, Part II: FD with Classes ###"
   ]
  },
  {
   "cell_type": "markdown",
   "metadata": {},
   "source": [
    "#### part 1 ####"
   ]
  },
  {
   "cell_type": "markdown",
   "metadata": {},
   "source": [
    "#### part 2 ####"
   ]
  },
  {
   "cell_type": "markdown",
   "metadata": {},
   "source": [
    "### Exercise 4: A song of ice and fire?\n"
   ]
  },
  {
   "cell_type": "markdown",
   "metadata": {},
   "source": [
    "#### part 1 ####"
   ]
  },
  {
   "cell_type": "markdown",
   "metadata": {},
   "source": [
    "#### part 2 ####"
   ]
  },
  {
   "cell_type": "markdown",
   "metadata": {},
   "source": [
    "#### part 3 ####"
   ]
  },
  {
   "cell_type": "markdown",
   "metadata": {},
   "source": [
    "#### part 4 ####"
   ]
  }
 ],
 "metadata": {
  "kernelspec": {
   "display_name": "Python 3.9.6 64-bit",
   "language": "python",
   "name": "python3"
  },
  "language_info": {
   "codemirror_mode": {
    "name": "ipython",
    "version": 3
   },
   "file_extension": ".py",
   "mimetype": "text/x-python",
   "name": "python",
   "nbconvert_exporter": "python",
   "pygments_lexer": "ipython3",
   "version": "3.9.6"
  },
  "orig_nbformat": 4,
  "vscode": {
   "interpreter": {
    "hash": "9f88672925c67925d3c70a63090d0283080a6001031a282a87e11821e2afc122"
   }
  }
 },
 "nbformat": 4,
 "nbformat_minor": 2
}
