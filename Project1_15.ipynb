{
 "cells": [
  {
   "cell_type": "markdown",
   "metadata": {},
   "source": [
    "# Project 1 group 15 #"
   ]
  },
  {
   "cell_type": "markdown",
   "metadata": {},
   "source": [
    "### Exercise 1: Finite-precision arithmetic ###"
   ]
  },
  {
   "cell_type": "markdown",
   "metadata": {},
   "source": [
    "#### part 1 ####"
   ]
  },
  {
   "cell_type": "code",
   "execution_count": 62,
   "metadata": {},
   "outputs": [
    {
     "name": "stdout",
     "output_type": "stream",
     "text": [
      "max:          The maximum possible positive number                                             : 1.7976931348623157e+308\n",
      "max_exp:      The maximum integer E in 2**(E-1) to present a float in the range                : 1024\n",
      "max_10_exp:   The maximum integer E in 10**E to present a flot i the range                     : 308\n",
      "min:          The minimum possible positive number                                             : 2.2250738585072014e-308\n",
      "min_exp:      The minimum integer E in 2**(E-1) to present a float in the range                : -1021\n",
      "min_10_exp:   The minimum integer E in 10**E to present a float i the range                    : -307\n",
      "dig:          The maximum number of digets that can be trusted when presenting a float         : 15\n",
      "mant_dig:     The number of exponent digets in the significant of a float                      : 53\n",
      "epsilon:      The difference between 1.0 and the last value greater than 1.0 that is presented : 2.220446049250313e-16\n",
      "randix:       The exponent representation                                                      : 2\n",
      "round:        The rounding constant                                                            : 1\n"
     ]
    }
   ],
   "source": [
    "import sys\n",
    "print(\"max:         \", \"The maximum possible positive number                                             :\",sys.float_info.max)\n",
    "print(\"max_exp:     \", \"The maximum integer E in 2**(E-1) to present a float in the range                :\",sys.float_info.max_exp)\n",
    "print(\"max_10_exp:  \", \"The maximum integer E in 10**E to present a flot i the range                     :\",sys.float_info.max_10_exp)\n",
    "print(\"min:         \", \"The minimum possible positive number                                             :\",sys.float_info.min)\n",
    "print(\"min_exp:     \", \"The minimum integer E in 2**(E-1) to present a float in the range                :\",sys.float_info.min_exp)\n",
    "print(\"min_10_exp:  \", \"The minimum integer E in 10**E to present a float i the range                    :\",sys.float_info.min_10_exp)\n",
    "print(\"dig:         \", \"The maximum number of digets that can be trusted when presenting a float         :\",sys.float_info.dig)\n",
    "print(\"mant_dig:    \", \"The number of exponent digets in the significant of a float                      :\",sys.float_info.mant_dig)\n",
    "print(\"epsilon:     \", \"The difference between 1.0 and the last value greater than 1.0 that is presented :\",sys.float_info.epsilon)\n",
    "print(\"randix:      \", \"The exponent representation                                                      :\",sys.float_info.radix)\n",
    "print(\"round:       \", \"The rounding constant                                                            :\",sys.float_info.rounds)"
   ]
  },
  {
   "cell_type": "markdown",
   "metadata": {},
   "source": [
    "#### part 2 ####"
   ]
  },
  {
   "cell_type": "code",
   "execution_count": 35,
   "metadata": {},
   "outputs": [
    {
     "name": "stdout",
     "output_type": "stream",
     "text": [
      "max:  1.7976931348623157e+308\n",
      "min:  2.2250738585072014e-308\n",
      "epsilon:  2.220446049250313e-16\n"
     ]
    }
   ],
   "source": [
    "max = (2-2**-52)*(2**1023)\n",
    "min = 2**(-1022)\n",
    "epsilon = 2**-52\n",
    "print(\"max: \", max)\n",
    "print(\"min: \", min)\n",
    "print(\"epsilon: \", epsilon)\n",
    "\n"
   ]
  },
  {
   "cell_type": "markdown",
   "metadata": {},
   "source": [
    "#### part 3 ####"
   ]
  },
  {
   "cell_type": "code",
   "execution_count": 36,
   "metadata": {},
   "outputs": [
    {
     "data": {
      "text/plain": [
       "0.30000000000000004"
      ]
     },
     "execution_count": 36,
     "metadata": {},
     "output_type": "execute_result"
    }
   ],
   "source": [
    "0.1+0.2"
   ]
  },
  {
   "cell_type": "markdown",
   "metadata": {},
   "source": [
    "As shown above the $0.1 + 0.2 \\neq 0.3 $.\n",
    "This is because numbers are represented as a finit number of bits. (typacly 64-bit). Where the first bit position is the sign, the next 11 bits is the exponent and the last 52 bits is the fraction. This causes some rounding error for floating points as representing some decimals requires an infinite number of digits."
   ]
  },
  {
   "cell_type": "markdown",
   "metadata": {},
   "source": [
    "#### part 4 ####"
   ]
  },
  {
   "cell_type": "code",
   "execution_count": 37,
   "metadata": {},
   "outputs": [
    {
     "name": "stdout",
     "output_type": "stream",
     "text": [
      "==, opperator does not work and gives false\n",
      "<, opperato works and gives true\n"
     ]
    }
   ],
   "source": [
    "a = 0.1\n",
    "b = 0.2\n",
    "c = 0.1 + 0.2\n",
    "if c == 0.3:\n",
    "    print(\"==, opperator workes and gives true\")\n",
    "else:\n",
    "    print(\"==, opperator does not work and gives false\")\n",
    "\n",
    "if (c - 0.3) < 0.000001:\n",
    "    print(\"<, opperato works and gives true\")\n",
    "else:\n",
    "\n",
    "    print(\"<, does not work and gives false\")\n"
   ]
  },
  {
   "cell_type": "markdown",
   "metadata": {},
   "source": [
    "For the example above where $0.1 + 0.2 \\neq 0.3$ it is clare that for some cases using the $==$ opperator will give some errors. this is why you should not use this opperator when dealing with floating points. as shown in the code above we can see that == opperator does not work. an alternative method would be the close enoght method, where we define a tolerance. in this case 0.000001 witch is vary small. "
   ]
  },
  {
   "cell_type": "markdown",
   "metadata": {},
   "source": [
    "### Exercise 2: Get up to speed with NumPy ###"
   ]
  },
  {
   "cell_type": "markdown",
   "metadata": {},
   "source": [
    "Native Python list of the same size as x and holding the same values."
   ]
  },
  {
   "cell_type": "code",
   "execution_count": 38,
   "metadata": {},
   "outputs": [
    {
     "name": "stdout",
     "output_type": "stream",
     "text": [
      "list np.exp(i) [1.0, 1.1175190675001758, 1.2488488662264625, 1.395612420434048, 1.5596234906751207, 1.74290900637972, 1.9477340475471228, 2.1766299365532036, 2.432425456989903, 2.718281828459045]\n",
      "list np.exp(-i) [1.0, 0.8948393178086357, 0.8007374046962245, 0.7165313129622269, 0.6411803912796452, 0.5737534181874177, 0.5134171173212017, 0.45942582301498036, 0.411112290050396, 0.36787944117144233]\n"
     ]
    }
   ],
   "source": [
    "#### part 1 ####\n",
    "import numpy as np\n",
    "my_list = []*10\n",
    "my_list = [0., 0.11111111, 0.22222222, 0.33333333, 0.44444444, 0.55555556,0.66666667, 0.77777778, 0.88888889, 1. ]\n",
    "output_list1 = [np.exp (i) for i in my_list]\n",
    "output_list2 = [np.exp (-i) for i in my_list]\n",
    "print(\"list np.exp(i)\", output_list1)\n",
    "print(\"list np.exp(-i)\", output_list2)"
   ]
  },
  {
   "cell_type": "markdown",
   "metadata": {},
   "source": [
    "a.Explain what each line of code does"
   ]
  },
  {
   "cell_type": "code",
   "execution_count": 39,
   "metadata": {},
   "outputs": [
    {
     "name": "stdout",
     "output_type": "stream",
     "text": [
      "[1 2 3 4 5]\n"
     ]
    },
    {
     "data": {
      "text/plain": [
       "array([ 2,  4,  6,  8, 10])"
      ]
     },
     "execution_count": 39,
     "metadata": {},
     "output_type": "execute_result"
    }
   ],
   "source": [
    "#### part 2 ####\n",
    "import numpy as np\n",
    "np.zeros(20) # array with 20 elements equal to zero\n",
    "np.ones(20) # array with 20 elements equal to one\n",
    "np.linspace(0, 10, 11) # Return evenly spaced numbers over a specified interval.[start,stop, num= number of evenlly spaced samples]\n",
    "np.linspace(0, 10, 11, endpoint=False) # Same as above but the stop will not be on the last element. In this case, not on 10\n",
    "vector1 = np.arange(5) + 1\n",
    "print(vector1)\n",
    "2*vector1"
   ]
  },
  {
   "cell_type": "markdown",
   "metadata": {},
   "source": [
    "Produce same using Python lists"
   ]
  },
  {
   "cell_type": "code",
   "execution_count": 40,
   "metadata": {},
   "outputs": [
    {
     "name": "stdout",
     "output_type": "stream",
     "text": [
      "[0, 0, 0, 0, 0, 0, 0, 0, 0, 0, 0, 0, 0, 0, 0, 0, 0, 0, 0, 0]\n",
      "[1, 1, 1, 1, 1, 1, 1, 1, 1, 1, 1, 1, 1, 1, 1, 1, 1, 1, 1, 1]\n"
     ]
    }
   ],
   "source": [
    "list_of_zeroes = [0]*20\n",
    "print(list_of_zeroes)\n",
    "\n",
    "list_of_ones = [1]*20\n",
    "print(list_of_ones)"
   ]
  },
  {
   "cell_type": "code",
   "execution_count": 44,
   "metadata": {},
   "outputs": [
    {
     "name": "stdout",
     "output_type": "stream",
     "text": [
      "There are 6 non-zero numbers in the array.\n"
     ]
    }
   ],
   "source": [
    "#### part 3 ####\n",
    "array_of_numbers = np.array([4, 8, 15, 16, 23, 42])\n",
    "nnz = np.count_nonzero(array_of_numbers)\n",
    "print(f’There are {nnz} non-zero numbers in the array.’)\n",
    "is_even = (array_of_numbers % 2 == 0)\n",
    "is_greater_than_17 = (array_of_numbers > 17)\n",
    "is_even_and_greater_than_17 = is_even & is_greater_than_17\n",
    "print(array_of_numbers % 2 == 0 & array_of_numbers > 17)\n"
   ]
  },
  {
   "cell_type": "markdown",
   "metadata": {},
   "source": [
    "Reason for failure: The code has failed as it occurs when we use an invalid character in our code or a result of copy-pasting."
   ]
  },
  {
   "cell_type": "code",
   "execution_count": 45,
   "metadata": {},
   "outputs": [
    {
     "name": "stdout",
     "output_type": "stream",
     "text": [
      "There are 6 non-zero numbers in the array.\n"
     ]
    },
    {
     "ename": "ValueError",
     "evalue": "The truth value of an array with more than one element is ambiguous. Use a.any() or a.all()",
     "output_type": "error",
     "traceback": [
      "\u001b[1;31m---------------------------------------------------------------------------\u001b[0m",
      "\u001b[1;31mValueError\u001b[0m                                Traceback (most recent call last)",
      "\u001b[1;32m~\\AppData\\Local\\Temp/ipykernel_11840/3034645403.py\u001b[0m in \u001b[0;36m<module>\u001b[1;34m\u001b[0m\n\u001b[0;32m      6\u001b[0m \u001b[0mis_greater_than_17\u001b[0m \u001b[1;33m=\u001b[0m \u001b[1;33m(\u001b[0m\u001b[0marray_of_numbers\u001b[0m \u001b[1;33m>\u001b[0m \u001b[1;36m17\u001b[0m\u001b[1;33m)\u001b[0m\u001b[1;33m\u001b[0m\u001b[1;33m\u001b[0m\u001b[0m\n\u001b[0;32m      7\u001b[0m \u001b[0mis_even_and_greater_than_17\u001b[0m \u001b[1;33m=\u001b[0m \u001b[0mis_even\u001b[0m \u001b[1;33m&\u001b[0m \u001b[0mis_greater_than_17\u001b[0m\u001b[1;33m\u001b[0m\u001b[1;33m\u001b[0m\u001b[0m\n\u001b[1;32m----> 8\u001b[1;33m \u001b[0mprint\u001b[0m\u001b[1;33m(\u001b[0m\u001b[0marray_of_numbers\u001b[0m \u001b[1;33m%\u001b[0m \u001b[1;36m2\u001b[0m \u001b[1;33m==\u001b[0m \u001b[1;36m0\u001b[0m \u001b[1;33m&\u001b[0m \u001b[0marray_of_numbers\u001b[0m \u001b[1;33m>\u001b[0m \u001b[1;36m17\u001b[0m\u001b[1;33m)\u001b[0m\u001b[1;33m\u001b[0m\u001b[1;33m\u001b[0m\u001b[0m\n\u001b[0m",
      "\u001b[1;31mValueError\u001b[0m: The truth value of an array with more than one element is ambiguous. Use a.any() or a.all()"
     ]
    }
   ],
   "source": [
    "#### part 3 Corrected code ####\n",
    "array_of_numbers = np.array([4, 8, 15, 16, 23, 42])\n",
    "nnz = np.count_nonzero(array_of_numbers)\n",
    "print(f'There are {nnz} non-zero numbers in the array.')\n",
    "is_even = (array_of_numbers % 2 == 0)\n",
    "is_greater_than_17 = (array_of_numbers > 17)\n",
    "is_even_and_greater_than_17 = is_even & is_greater_than_17\n"
   ]
  },
  {
   "cell_type": "code",
   "execution_count": null,
   "metadata": {},
   "outputs": [
    {
     "ename": "ValueError",
     "evalue": "The truth value of an array with more than one element is ambiguous. Use a.any() or a.all()",
     "output_type": "error",
     "traceback": [
      "\u001b[1;31m---------------------------------------------------------------------------\u001b[0m",
      "\u001b[1;31mValueError\u001b[0m                                Traceback (most recent call last)",
      "\u001b[1;32m~\\AppData\\Local\\Temp/ipykernel_3860/3099933546.py\u001b[0m in \u001b[0;36m<module>\u001b[1;34m\u001b[0m\n\u001b[0;32m      1\u001b[0m \u001b[1;31m##Part3 b##\u001b[0m\u001b[1;33m\u001b[0m\u001b[1;33m\u001b[0m\u001b[1;33m\u001b[0m\u001b[0m\n\u001b[1;32m----> 2\u001b[1;33m \u001b[0mis_even_and_greater_than_17\u001b[0m \u001b[1;33m=\u001b[0m \u001b[0mis_even\u001b[0m \u001b[1;32mand\u001b[0m \u001b[0mis_greater_than_17\u001b[0m\u001b[1;33m\u001b[0m\u001b[1;33m\u001b[0m\u001b[0m\n\u001b[0m\u001b[0;32m      3\u001b[0m \u001b[0mprint\u001b[0m\u001b[1;33m(\u001b[0m\u001b[0marray_of_numbers\u001b[0m \u001b[1;33m%\u001b[0m \u001b[1;36m2\u001b[0m \u001b[1;33m==\u001b[0m \u001b[1;36m0\u001b[0m \u001b[1;33m&\u001b[0m \u001b[0marray_of_numbers\u001b[0m \u001b[1;33m>\u001b[0m \u001b[1;36m17\u001b[0m\u001b[1;33m)\u001b[0m\u001b[1;33m\u001b[0m\u001b[1;33m\u001b[0m\u001b[0m\n",
      "\u001b[1;31mValueError\u001b[0m: The truth value of an array with more than one element is ambiguous. Use a.any() or a.all()"
     ]
    }
   ],
   "source": [
    "##Part3 b##\n",
    "is_even_and_greater_than_17 = is_even and is_greater_than_17\n",
    "print(array_of_numbers % 2 == 0 & array_of_numbers > 17)"
   ]
  },
  {
   "cell_type": "markdown",
   "metadata": {},
   "source": [
    "Reason for failure: The error occurs because instead of evaluating single values, we are evaluating on more than one element, therefore there is ambiguity in how to determine if the condition is true or not. We are evaluating multiple elements in the boolean context."
   ]
  },
  {
   "cell_type": "code",
   "execution_count": 49,
   "metadata": {},
   "outputs": [
    {
     "name": "stdout",
     "output_type": "stream",
     "text": [
      "False\n"
     ]
    }
   ],
   "source": [
    "##Corrected Code##\n",
    "is_even_and_greater_than_17 = is_even.any() and is_greater_than_17.any()\n",
    "print(array_of_numbers.all() % 2 == 0 & array_of_numbers.all() > 17)"
   ]
  },
  {
   "cell_type": "markdown",
   "metadata": {},
   "source": [
    "#### part 4 ####"
   ]
  },
  {
   "cell_type": "code",
   "execution_count": 50,
   "metadata": {},
   "outputs": [
    {
     "data": {
      "text/plain": [
       "array([4, 5], dtype=int64)"
      ]
     },
     "execution_count": 50,
     "metadata": {},
     "output_type": "execute_result"
    }
   ],
   "source": [
    "np.where(array_of_numbers > 17)[0] # Returns the indices of the elements where value is greater then 17"
   ]
  },
  {
   "cell_type": "code",
   "execution_count": 51,
   "metadata": {},
   "outputs": [
    {
     "data": {
      "text/plain": [
       "array([0, 0, 0, 0, 1, 1])"
      ]
     },
     "execution_count": 51,
     "metadata": {},
     "output_type": "execute_result"
    }
   ],
   "source": [
    "np.where(array_of_numbers > 17, 1, 0)#numpy.where(condition[, x, y]), in this case it return 1 if the condition is true . If False returns 0."
   ]
  },
  {
   "cell_type": "markdown",
   "metadata": {},
   "source": [
    "### Exercise 3, Part I: Finite Differences (FD) with Functions ###"
   ]
  },
  {
   "cell_type": "markdown",
   "metadata": {},
   "source": [
    "#### part 1 ####"
   ]
  },
  {
   "cell_type": "code",
   "execution_count": 128,
   "metadata": {},
   "outputs": [],
   "source": [
    "import matplotlib.pyplot as plt"
   ]
  },
  {
   "cell_type": "code",
   "execution_count": 129,
   "metadata": {},
   "outputs": [],
   "source": [
    "def f(x, a=0.1, b=10):\n",
    "    return np.sin(b*x)*np.exp(-a*x*x)"
   ]
  },
  {
   "cell_type": "code",
   "execution_count": 137,
   "metadata": {},
   "outputs": [],
   "source": [
    "def plot_f(x, F):\n",
    "    plt.figure(figsize=(10,10))\n",
    "    plt.plot(x, F, label=\"a Gaussian wave package\")\n",
    "    plt.xlabel(\"x\")\n",
    "    plt.ylabel(\"f(x)\")\n",
    "    plt.legend()\n",
    "    plt.grid()\n",
    "    plt.show()\n"
   ]
  },
  {
   "cell_type": "code",
   "execution_count": 138,
   "metadata": {},
   "outputs": [
    {
     "data": {
      "image/png": "[encoded data removed]",
      "text/plain": [
       "<Figure size 720x720 with 1 Axes>"
      ]
     },
     "metadata": {
      "needs_background": "light"
     },
     "output_type": "display_data"
    }
   ],
   "source": [
    "X = np.linspace(-10,10,1000)\n",
    "plot_f(X, f(X))\n"
   ]
  },
  {
   "cell_type": "markdown",
   "metadata": {},
   "source": [
    "#### part 2 ####"
   ]
  },
  {
   "cell_type": "code",
   "execution_count": 132,
   "metadata": {},
   "outputs": [],
   "source": [
    "def der_f(x, a=0.1, b=10):\n",
    "    return b* np.cos(b*x)* np.exp(-a*(x**2))-2*a*x*np.sin(b*x)*np.exp(-a*(x**2))"
   ]
  },
  {
   "cell_type": "markdown",
   "metadata": {},
   "source": [
    "#### part 3 ####"
   ]
  },
  {
   "cell_type": "code",
   "execution_count": 133,
   "metadata": {},
   "outputs": [
    {
     "name": "stdout",
     "output_type": "stream",
     "text": [
      "analytical method: -7.493783027703379\n",
      "numerical method : -7.220096595246589\n"
     ]
    }
   ],
   "source": [
    "def fd(f,x,h):\n",
    "    return (f(x+h)-f(x))/h\n",
    "\n",
    "print(\"analytical method:\", der_f(1))\n",
    "print(\"numerical method :\",fd(f, 1, 1e-2))\n"
   ]
  },
  {
   "cell_type": "markdown",
   "metadata": {},
   "source": [
    "#### part 4 ####"
   ]
  },
  {
   "cell_type": "code",
   "execution_count": 134,
   "metadata": {},
   "outputs": [
    {
     "name": "stdout",
     "output_type": "stream",
     "text": [
      "central method : -7.48156774953081\n"
     ]
    }
   ],
   "source": [
    "def fc(f,x,h):\n",
    "    return 0.5*(f(x+h)-f(x-h))/h\n",
    "\n",
    "print(\"central method :\",fc(f, 1, 1e-2))"
   ]
  },
  {
   "cell_type": "markdown",
   "metadata": {},
   "source": [
    "#### part 5 ####"
   ]
  },
  {
   "cell_type": "code",
   "execution_count": 139,
   "metadata": {},
   "outputs": [
    {
     "data": {
      "image/png": "[encoded data removed]",
      "text/plain": [
       "<Figure size 720x720 with 1 Axes>"
      ]
     },
     "metadata": {
      "needs_background": "light"
     },
     "output_type": "display_data"
    }
   ],
   "source": [
    "\n",
    "h = np.logspace(-16, 0, 10)\n",
    "x = 1\n",
    "plt.figure(figsize=(10,10))\n",
    "plt.plot(h, abs(der_f(x)-fd(f,x,h)), \"-or\", label=\"Forward\")\n",
    "plt.plot(h, abs(der_f(x)-fc(f,x,h)), \"-xb\", label=\"Central\")\n",
    "plt.grid()\n",
    "plt.legend()\n",
    "plt.xscale(\"log\")\n",
    "plt.yscale(\"log\")\n",
    "plt.show()"
   ]
  },
  {
   "cell_type": "markdown",
   "metadata": {},
   "source": [
    "###  Exercise 3, Part II: FD with Classes ###"
   ]
  },
  {
   "cell_type": "markdown",
   "metadata": {},
   "source": [
    "#### part 1 ####"
   ]
  },
  {
   "cell_type": "markdown",
   "metadata": {},
   "source": [
    "#### part 2 ####"
   ]
  },
  {
   "cell_type": "markdown",
   "metadata": {},
   "source": [
    "### Exercise 4: A song of ice and fire?\n"
   ]
  },
  {
   "cell_type": "markdown",
   "metadata": {},
   "source": [
    "#### part 1 ####"
   ]
  },
  {
   "cell_type": "markdown",
   "metadata": {},
   "source": [
    "#### part 2 ####"
   ]
  },
  {
   "cell_type": "markdown",
   "metadata": {},
   "source": [
    "#### part 3 ####"
   ]
  },
  {
   "cell_type": "markdown",
   "metadata": {},
   "source": [
    "#### part 4 ####"
   ]
  }
 ],
 "metadata": {
  "kernelspec": {
   "display_name": "Python 3.9.6 64-bit",
   "language": "python",
   "name": "python3"
  },
  "language_info": {
   "codemirror_mode": {
    "name": "ipython",
    "version": 3
   },
   "file_extension": ".py",
   "mimetype": "text/x-python",
   "name": "python",
   "nbconvert_exporter": "python",
   "pygments_lexer": "ipython3",
   "version": "3.9.6"
  },
  "orig_nbformat": 4,
  "vscode": {
   "interpreter": {
    "hash": "9f88672925c67925d3c70a63090d0283080a6001031a282a87e11821e2afc122"
   }
  }
 },
 "nbformat": 4,
 "nbformat_minor": 2
}
